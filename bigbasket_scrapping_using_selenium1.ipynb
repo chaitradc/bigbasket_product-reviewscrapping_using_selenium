{
 "cells": [
  {
   "cell_type": "markdown",
   "id": "34597dea",
   "metadata": {
    "scrolled": true
   },
   "source": [
    "# web_scraping_bigbasket_nivea_cocoa"
   ]
  },
  {
   "cell_type": "code",
   "execution_count": 22,
   "id": "4a2d10a7",
   "metadata": {},
   "outputs": [
    {
     "name": "stderr",
     "output_type": "stream",
     "text": [
      "<ipython-input-22-07b0e74eea15>:18: DeprecationWarning: executable_path has been deprecated, please pass in a Service object\n",
      "  driver = webdriver.Chrome(ChromeDriverManager().install())\n"
     ]
    }
   ],
   "source": [
    "# importing necessary packages\n",
    "from selenium import webdriver\n",
    "from webdriver_manager.chrome import ChromeDriverManager\n",
    "import pandas as pd\n",
    "  \n",
    "# for holding the resultant list\n",
    "element_list = []\n",
    "element_list1 = []\n",
    "element_list2 = []\n",
    "\n",
    "  \n",
    "for page in range(1,20,1):\n",
    "    \n",
    "    #reading the url of the product\n",
    "    \n",
    "    #page_url = \"https://www.bigbasket.com/pd/40125359/vaseline-intensive-care-aloe-fresh-body-lotion-400-ml/?nc=sis-prod-list&t_pg=siscategory&t_p=sis-template-1&t_s=sis-prod-list&t_pos=2&t_ch=desktop/?page=\" + str(page)\n",
    "    page_url =\"https://www.bigbasket.com/product-reviews/40029010/nivea-cocoa-nourish-body-lotion-for-very-dry-skin-with-coconut-oil-cocoa-butter-for-men-women-400-ml/?page=\"+str(page)\n",
    "    driver = webdriver.Chrome(ChromeDriverManager().install())\n",
    "    driver.get(page_url)\n",
    "    \n",
    "    # fetching the product xpath\n",
    "    ratings = driver.find_elements(\"xpath\",\"//div[@class='_2us4g']\")\n",
    "    comment=driver.find_elements(\"xpath\",\"//div[@class='_1R8fN']\")\n",
    "    name=driver.find_elements(\"xpath\",\"//div[@class='_1D1CC']\")\n",
    "\n",
    "    # append the list to the empty list\n",
    "  \n",
    "    for i in range(len(ratings)):\n",
    "    \n",
    "        element_list.append(ratings[i].text)\n",
    "        element_list1.append(comment[i].text)\n",
    "        element_list2.append(name[i].text)\n",
    "    \n",
    "  \n",
    "    \n",
    "#closing the driver\n",
    "driver.close()\n",
    "\n",
    "\n",
    "       \n"
   ]
  },
  {
   "cell_type": "code",
   "execution_count": 23,
   "id": "539f4b3f",
   "metadata": {},
   "outputs": [
    {
     "data": {
      "text/html": [
       "<div>\n",
       "<style scoped>\n",
       "    .dataframe tbody tr th:only-of-type {\n",
       "        vertical-align: middle;\n",
       "    }\n",
       "\n",
       "    .dataframe tbody tr th {\n",
       "        vertical-align: top;\n",
       "    }\n",
       "\n",
       "    .dataframe thead th {\n",
       "        text-align: right;\n",
       "    }\n",
       "</style>\n",
       "<table border=\"1\" class=\"dataframe\">\n",
       "  <thead>\n",
       "    <tr style=\"text-align: right;\">\n",
       "      <th></th>\n",
       "      <th>Rating</th>\n",
       "      <th>Comment</th>\n",
       "      <th>Author_Details</th>\n",
       "    </tr>\n",
       "  </thead>\n",
       "  <tbody>\n",
       "    <tr>\n",
       "      <th>0</th>\n",
       "      <td>4\\nGood Aroma! Have been using it from a long ...</td>\n",
       "      <td>Good Product. But I don't think it moisturises...</td>\n",
       "      <td>Preethy Suresh, (3 years ago)\\n6</td>\n",
       "    </tr>\n",
       "    <tr>\n",
       "      <th>1</th>\n",
       "      <td>5\\nPerfect for dry skin</td>\n",
       "      <td>It moisturizes the skin extremely well and mak...</td>\n",
       "      <td>Mariyam Ali, (3 years ago)\\n4</td>\n",
       "    </tr>\n",
       "    <tr>\n",
       "      <th>2</th>\n",
       "      <td>5\\nBB cost saver</td>\n",
       "      <td>We are using from long time , very effective</td>\n",
       "      <td>Rajesh k, Mumbai (2 years ago)\\n2</td>\n",
       "    </tr>\n",
       "    <tr>\n",
       "      <th>3</th>\n",
       "      <td>5\\nMy Complete Nourishment Package...!!!</td>\n",
       "      <td>My skin is very dry and this Nivea lotion is c...</td>\n",
       "      <td>Shilpa, (3 years ago)\\n2</td>\n",
       "    </tr>\n",
       "    <tr>\n",
       "      <th>4</th>\n",
       "      <td>4</td>\n",
       "      <td>Nice product. but smell is a bit stronger than...</td>\n",
       "      <td>Rahul, Noida-Ghaziabad (10 months ago)\\n1</td>\n",
       "    </tr>\n",
       "  </tbody>\n",
       "</table>\n",
       "</div>"
      ],
      "text/plain": [
       "                                              Rating  \\\n",
       "0  4\\nGood Aroma! Have been using it from a long ...   \n",
       "1                            5\\nPerfect for dry skin   \n",
       "2                                   5\\nBB cost saver   \n",
       "3           5\\nMy Complete Nourishment Package...!!!   \n",
       "4                                                  4   \n",
       "\n",
       "                                             Comment  \\\n",
       "0  Good Product. But I don't think it moisturises...   \n",
       "1  It moisturizes the skin extremely well and mak...   \n",
       "2       We are using from long time , very effective   \n",
       "3  My skin is very dry and this Nivea lotion is c...   \n",
       "4  Nice product. but smell is a bit stronger than...   \n",
       "\n",
       "                              Author_Details  \n",
       "0           Preethy Suresh, (3 years ago)\\n6  \n",
       "1              Mariyam Ali, (3 years ago)\\n4  \n",
       "2          Rajesh k, Mumbai (2 years ago)\\n2  \n",
       "3                   Shilpa, (3 years ago)\\n2  \n",
       "4  Rahul, Noida-Ghaziabad (10 months ago)\\n1  "
      ]
     },
     "execution_count": 23,
     "metadata": {},
     "output_type": "execute_result"
    }
   ],
   "source": [
    "data = pd.DataFrame({'Rating':element_list,'Comment':element_list1,'Author_Details':element_list2})\n",
    "data.head()\n",
    "\n"
   ]
  },
  {
   "cell_type": "code",
   "execution_count": 24,
   "id": "c0829e6e",
   "metadata": {},
   "outputs": [
    {
     "data": {
      "text/plain": [
       "(44, 3)"
      ]
     },
     "execution_count": 24,
     "metadata": {},
     "output_type": "execute_result"
    }
   ],
   "source": [
    "data.shape"
   ]
  },
  {
   "cell_type": "code",
   "execution_count": 8,
   "id": "64fbf455",
   "metadata": {},
   "outputs": [],
   "source": [
    "#data.to_csv(r\"C:\\Users\\chaidc\\Documents\\CI_Box_Work\\selenium_scraping\\output\\nivea-cocoa-nourish-body-lotion_review_0902.csv\")"
   ]
  },
  {
   "cell_type": "code",
   "execution_count": 25,
   "id": "817b0a70",
   "metadata": {},
   "outputs": [
    {
     "name": "stderr",
     "output_type": "stream",
     "text": [
      "<ipython-input-25-a9e7af5807d8>:2: FutureWarning: The default value of regex will change from True to False in a future version.\n",
      "  data['Author_Details'] = data.Author_Details.str.replace('\\d+', '')\n",
      "<ipython-input-25-a9e7af5807d8>:3: FutureWarning: The default value of regex will change from True to False in a future version.\n",
      "  data['Author_Details']=data['Author_Details'].str.replace(r\"\\(.*\\)\",\"\")\n"
     ]
    }
   ],
   "source": [
    "data= data.replace('\\\\n','', regex=True)\n",
    "data['Author_Details'] = data.Author_Details.str.replace('\\d+', '')\n",
    "data['Author_Details']=data['Author_Details'].str.replace(r\"\\(.*\\)\",\"\")"
   ]
  },
  {
   "cell_type": "code",
   "execution_count": 26,
   "id": "f712182c",
   "metadata": {},
   "outputs": [
    {
     "data": {
      "text/html": [
       "<div>\n",
       "<style scoped>\n",
       "    .dataframe tbody tr th:only-of-type {\n",
       "        vertical-align: middle;\n",
       "    }\n",
       "\n",
       "    .dataframe tbody tr th {\n",
       "        vertical-align: top;\n",
       "    }\n",
       "\n",
       "    .dataframe thead th {\n",
       "        text-align: right;\n",
       "    }\n",
       "</style>\n",
       "<table border=\"1\" class=\"dataframe\">\n",
       "  <thead>\n",
       "    <tr style=\"text-align: right;\">\n",
       "      <th></th>\n",
       "      <th>Rating</th>\n",
       "      <th>Comment</th>\n",
       "      <th>Author_Details</th>\n",
       "    </tr>\n",
       "  </thead>\n",
       "  <tbody>\n",
       "    <tr>\n",
       "      <th>0</th>\n",
       "      <td>4Good Aroma! Have been using it from a long time.</td>\n",
       "      <td>Good Product. But I don't think it moisturises...</td>\n",
       "      <td>Preethy Suresh,</td>\n",
       "    </tr>\n",
       "    <tr>\n",
       "      <th>1</th>\n",
       "      <td>5Perfect for dry skin</td>\n",
       "      <td>It moisturizes the skin extremely well and mak...</td>\n",
       "      <td>Mariyam Ali,</td>\n",
       "    </tr>\n",
       "    <tr>\n",
       "      <th>2</th>\n",
       "      <td>5BB cost saver</td>\n",
       "      <td>We are using from long time , very effective</td>\n",
       "      <td>Rajesh k, Mumbai</td>\n",
       "    </tr>\n",
       "    <tr>\n",
       "      <th>3</th>\n",
       "      <td>5My Complete Nourishment Package...!!!</td>\n",
       "      <td>My skin is very dry and this Nivea lotion is c...</td>\n",
       "      <td>Shilpa,</td>\n",
       "    </tr>\n",
       "    <tr>\n",
       "      <th>4</th>\n",
       "      <td>4</td>\n",
       "      <td>Nice product. but smell is a bit stronger than...</td>\n",
       "      <td>Rahul, Noida-Ghaziabad</td>\n",
       "    </tr>\n",
       "  </tbody>\n",
       "</table>\n",
       "</div>"
      ],
      "text/plain": [
       "                                              Rating  \\\n",
       "0  4Good Aroma! Have been using it from a long time.   \n",
       "1                              5Perfect for dry skin   \n",
       "2                                     5BB cost saver   \n",
       "3             5My Complete Nourishment Package...!!!   \n",
       "4                                                  4   \n",
       "\n",
       "                                             Comment           Author_Details  \n",
       "0  Good Product. But I don't think it moisturises...         Preethy Suresh,   \n",
       "1  It moisturizes the skin extremely well and mak...            Mariyam Ali,   \n",
       "2       We are using from long time , very effective        Rajesh k, Mumbai   \n",
       "3  My skin is very dry and this Nivea lotion is c...                 Shilpa,   \n",
       "4  Nice product. but smell is a bit stronger than...  Rahul, Noida-Ghaziabad   "
      ]
     },
     "execution_count": 26,
     "metadata": {},
     "output_type": "execute_result"
    }
   ],
   "source": [
    "data.head()"
   ]
  },
  {
   "cell_type": "code",
   "execution_count": 27,
   "id": "ab830021",
   "metadata": {},
   "outputs": [
    {
     "data": {
      "text/plain": [
       "(44, 3)"
      ]
     },
     "execution_count": 27,
     "metadata": {},
     "output_type": "execute_result"
    }
   ],
   "source": [
    "data.shape"
   ]
  },
  {
   "cell_type": "code",
   "execution_count": 28,
   "id": "fe78a910",
   "metadata": {},
   "outputs": [],
   "source": [
    "data[['Name', 'Location']] = data['Author_Details'].str.split(',', expand=True)"
   ]
  },
  {
   "cell_type": "code",
   "execution_count": 29,
   "id": "5b56cfb0",
   "metadata": {},
   "outputs": [
    {
     "data": {
      "text/html": [
       "<div>\n",
       "<style scoped>\n",
       "    .dataframe tbody tr th:only-of-type {\n",
       "        vertical-align: middle;\n",
       "    }\n",
       "\n",
       "    .dataframe tbody tr th {\n",
       "        vertical-align: top;\n",
       "    }\n",
       "\n",
       "    .dataframe thead th {\n",
       "        text-align: right;\n",
       "    }\n",
       "</style>\n",
       "<table border=\"1\" class=\"dataframe\">\n",
       "  <thead>\n",
       "    <tr style=\"text-align: right;\">\n",
       "      <th></th>\n",
       "      <th>Rating</th>\n",
       "      <th>Comment</th>\n",
       "      <th>Author_Details</th>\n",
       "      <th>Name</th>\n",
       "      <th>Location</th>\n",
       "    </tr>\n",
       "  </thead>\n",
       "  <tbody>\n",
       "    <tr>\n",
       "      <th>0</th>\n",
       "      <td>4Good Aroma! Have been using it from a long time.</td>\n",
       "      <td>Good Product. But I don't think it moisturises...</td>\n",
       "      <td>Preethy Suresh,</td>\n",
       "      <td>Preethy Suresh</td>\n",
       "      <td></td>\n",
       "    </tr>\n",
       "    <tr>\n",
       "      <th>1</th>\n",
       "      <td>5Perfect for dry skin</td>\n",
       "      <td>It moisturizes the skin extremely well and mak...</td>\n",
       "      <td>Mariyam Ali,</td>\n",
       "      <td>Mariyam Ali</td>\n",
       "      <td></td>\n",
       "    </tr>\n",
       "    <tr>\n",
       "      <th>2</th>\n",
       "      <td>5BB cost saver</td>\n",
       "      <td>We are using from long time , very effective</td>\n",
       "      <td>Rajesh k, Mumbai</td>\n",
       "      <td>Rajesh k</td>\n",
       "      <td>Mumbai</td>\n",
       "    </tr>\n",
       "    <tr>\n",
       "      <th>3</th>\n",
       "      <td>5My Complete Nourishment Package...!!!</td>\n",
       "      <td>My skin is very dry and this Nivea lotion is c...</td>\n",
       "      <td>Shilpa,</td>\n",
       "      <td>Shilpa</td>\n",
       "      <td></td>\n",
       "    </tr>\n",
       "    <tr>\n",
       "      <th>4</th>\n",
       "      <td>4</td>\n",
       "      <td>Nice product. but smell is a bit stronger than...</td>\n",
       "      <td>Rahul, Noida-Ghaziabad</td>\n",
       "      <td>Rahul</td>\n",
       "      <td>Noida-Ghaziabad</td>\n",
       "    </tr>\n",
       "  </tbody>\n",
       "</table>\n",
       "</div>"
      ],
      "text/plain": [
       "                                              Rating  \\\n",
       "0  4Good Aroma! Have been using it from a long time.   \n",
       "1                              5Perfect for dry skin   \n",
       "2                                     5BB cost saver   \n",
       "3             5My Complete Nourishment Package...!!!   \n",
       "4                                                  4   \n",
       "\n",
       "                                             Comment           Author_Details  \\\n",
       "0  Good Product. But I don't think it moisturises...         Preethy Suresh,    \n",
       "1  It moisturizes the skin extremely well and mak...            Mariyam Ali,    \n",
       "2       We are using from long time , very effective        Rajesh k, Mumbai    \n",
       "3  My skin is very dry and this Nivea lotion is c...                 Shilpa,    \n",
       "4  Nice product. but smell is a bit stronger than...  Rahul, Noida-Ghaziabad    \n",
       "\n",
       "             Name           Location  \n",
       "0  Preethy Suresh                     \n",
       "1     Mariyam Ali                     \n",
       "2        Rajesh k            Mumbai   \n",
       "3          Shilpa                     \n",
       "4           Rahul   Noida-Ghaziabad   "
      ]
     },
     "execution_count": 29,
     "metadata": {},
     "output_type": "execute_result"
    }
   ],
   "source": [
    "data.head()"
   ]
  },
  {
   "cell_type": "code",
   "execution_count": 30,
   "id": "1c3ad510",
   "metadata": {},
   "outputs": [
    {
     "data": {
      "text/plain": [
       "(44, 5)"
      ]
     },
     "execution_count": 30,
     "metadata": {},
     "output_type": "execute_result"
    }
   ],
   "source": [
    "data.shape"
   ]
  },
  {
   "cell_type": "code",
   "execution_count": 31,
   "id": "4583c9ac",
   "metadata": {},
   "outputs": [],
   "source": [
    "data.to_csv(r\"C:\\Users\\chaidc\\Documents\\CI_Box_Work\\selenium_scraping\\output\\nivea-cocoa-nourish-body-lotion_review_final_0902.csv\")"
   ]
  },
  {
   "cell_type": "code",
   "execution_count": null,
   "id": "d094d92c",
   "metadata": {},
   "outputs": [],
   "source": [
    "#data[(data['']==) & (data['']==)"
   ]
  },
  {
   "cell_type": "code",
   "execution_count": 2,
   "id": "7ed68505",
   "metadata": {},
   "outputs": [],
   "source": [
    "import pandas as pd"
   ]
  },
  {
   "cell_type": "code",
   "execution_count": 3,
   "id": "09aa3c1f",
   "metadata": {},
   "outputs": [],
   "source": [
    "df=pd.read_csv(r\"C:\\Users\\chaidc\\Documents\\CI_Box_Work\\selenium_scraping\\output\\nivea-cocoa-nourish-body-lotion_review_final_0902.csv\")"
   ]
  },
  {
   "cell_type": "code",
   "execution_count": 4,
   "id": "29f14990",
   "metadata": {},
   "outputs": [
    {
     "data": {
      "text/plain": [
       "(44, 6)"
      ]
     },
     "execution_count": 4,
     "metadata": {},
     "output_type": "execute_result"
    }
   ],
   "source": [
    "df.shape"
   ]
  },
  {
   "cell_type": "code",
   "execution_count": 5,
   "id": "d16be4ec",
   "metadata": {
    "scrolled": true
   },
   "outputs": [
    {
     "data": {
      "text/html": [
       "<div>\n",
       "<style scoped>\n",
       "    .dataframe tbody tr th:only-of-type {\n",
       "        vertical-align: middle;\n",
       "    }\n",
       "\n",
       "    .dataframe tbody tr th {\n",
       "        vertical-align: top;\n",
       "    }\n",
       "\n",
       "    .dataframe thead th {\n",
       "        text-align: right;\n",
       "    }\n",
       "</style>\n",
       "<table border=\"1\" class=\"dataframe\">\n",
       "  <thead>\n",
       "    <tr style=\"text-align: right;\">\n",
       "      <th></th>\n",
       "      <th>Unnamed: 0</th>\n",
       "      <th>Rating</th>\n",
       "      <th>Comment</th>\n",
       "      <th>Author_Details</th>\n",
       "      <th>Name</th>\n",
       "      <th>Location</th>\n",
       "    </tr>\n",
       "  </thead>\n",
       "  <tbody>\n",
       "    <tr>\n",
       "      <th>0</th>\n",
       "      <td>0</td>\n",
       "      <td>4Good Aroma! Have been using it from a long time.</td>\n",
       "      <td>Good Product. But I don't think it moisturises...</td>\n",
       "      <td>Preethy Suresh,</td>\n",
       "      <td>Preethy Suresh</td>\n",
       "      <td></td>\n",
       "    </tr>\n",
       "    <tr>\n",
       "      <th>1</th>\n",
       "      <td>1</td>\n",
       "      <td>5Perfect for dry skin</td>\n",
       "      <td>It moisturizes the skin extremely well and mak...</td>\n",
       "      <td>Mariyam Ali,</td>\n",
       "      <td>Mariyam Ali</td>\n",
       "      <td></td>\n",
       "    </tr>\n",
       "    <tr>\n",
       "      <th>2</th>\n",
       "      <td>2</td>\n",
       "      <td>5BB cost saver</td>\n",
       "      <td>We are using from long time , very effective</td>\n",
       "      <td>Rajesh k, Mumbai</td>\n",
       "      <td>Rajesh k</td>\n",
       "      <td>Mumbai</td>\n",
       "    </tr>\n",
       "    <tr>\n",
       "      <th>3</th>\n",
       "      <td>3</td>\n",
       "      <td>5My Complete Nourishment Package...!!!</td>\n",
       "      <td>My skin is very dry and this Nivea lotion is c...</td>\n",
       "      <td>Shilpa,</td>\n",
       "      <td>Shilpa</td>\n",
       "      <td></td>\n",
       "    </tr>\n",
       "    <tr>\n",
       "      <th>4</th>\n",
       "      <td>4</td>\n",
       "      <td>4</td>\n",
       "      <td>Nice product. but smell is a bit stronger than...</td>\n",
       "      <td>Rahul, Noida-Ghaziabad</td>\n",
       "      <td>Rahul</td>\n",
       "      <td>Noida-Ghaziabad</td>\n",
       "    </tr>\n",
       "  </tbody>\n",
       "</table>\n",
       "</div>"
      ],
      "text/plain": [
       "   Unnamed: 0                                             Rating  \\\n",
       "0           0  4Good Aroma! Have been using it from a long time.   \n",
       "1           1                              5Perfect for dry skin   \n",
       "2           2                                     5BB cost saver   \n",
       "3           3             5My Complete Nourishment Package...!!!   \n",
       "4           4                                                  4   \n",
       "\n",
       "                                             Comment           Author_Details  \\\n",
       "0  Good Product. But I don't think it moisturises...         Preethy Suresh,    \n",
       "1  It moisturizes the skin extremely well and mak...            Mariyam Ali,    \n",
       "2       We are using from long time , very effective        Rajesh k, Mumbai    \n",
       "3  My skin is very dry and this Nivea lotion is c...                 Shilpa,    \n",
       "4  Nice product. but smell is a bit stronger than...  Rahul, Noida-Ghaziabad    \n",
       "\n",
       "             Name           Location  \n",
       "0  Preethy Suresh                     \n",
       "1     Mariyam Ali                     \n",
       "2        Rajesh k            Mumbai   \n",
       "3          Shilpa                     \n",
       "4           Rahul   Noida-Ghaziabad   "
      ]
     },
     "execution_count": 5,
     "metadata": {},
     "output_type": "execute_result"
    }
   ],
   "source": [
    "df.head()"
   ]
  },
  {
   "cell_type": "code",
   "execution_count": 10,
   "id": "09edff0d",
   "metadata": {},
   "outputs": [],
   "source": [
    "import pandas as pd"
   ]
  },
  {
   "cell_type": "code",
   "execution_count": 11,
   "id": "8e5aad29",
   "metadata": {},
   "outputs": [],
   "source": [
    "df=pd.read_csv(r\"C:\\Users\\chaidc\\Documents\\CI_Box_Work\\selenium_scraping\\output\\nivea-cocoa-nourish-body-lotion_review_final_0902.csv\")"
   ]
  },
  {
   "cell_type": "code",
   "execution_count": 12,
   "id": "f7891f71",
   "metadata": {},
   "outputs": [
    {
     "data": {
      "text/html": [
       "<div>\n",
       "<style scoped>\n",
       "    .dataframe tbody tr th:only-of-type {\n",
       "        vertical-align: middle;\n",
       "    }\n",
       "\n",
       "    .dataframe tbody tr th {\n",
       "        vertical-align: top;\n",
       "    }\n",
       "\n",
       "    .dataframe thead th {\n",
       "        text-align: right;\n",
       "    }\n",
       "</style>\n",
       "<table border=\"1\" class=\"dataframe\">\n",
       "  <thead>\n",
       "    <tr style=\"text-align: right;\">\n",
       "      <th></th>\n",
       "      <th>Unnamed: 0</th>\n",
       "      <th>Rating</th>\n",
       "      <th>Comment</th>\n",
       "      <th>Author_Details</th>\n",
       "      <th>Name</th>\n",
       "      <th>Location</th>\n",
       "    </tr>\n",
       "  </thead>\n",
       "  <tbody>\n",
       "    <tr>\n",
       "      <th>0</th>\n",
       "      <td>0</td>\n",
       "      <td>4Good Aroma! Have been using it from a long time.</td>\n",
       "      <td>Good Product. But I don't think it moisturises...</td>\n",
       "      <td>Preethy Suresh,</td>\n",
       "      <td>Preethy Suresh</td>\n",
       "      <td></td>\n",
       "    </tr>\n",
       "    <tr>\n",
       "      <th>1</th>\n",
       "      <td>1</td>\n",
       "      <td>5Perfect for dry skin</td>\n",
       "      <td>It moisturizes the skin extremely well and mak...</td>\n",
       "      <td>Mariyam Ali,</td>\n",
       "      <td>Mariyam Ali</td>\n",
       "      <td></td>\n",
       "    </tr>\n",
       "    <tr>\n",
       "      <th>2</th>\n",
       "      <td>2</td>\n",
       "      <td>5BB cost saver</td>\n",
       "      <td>We are using from long time , very effective</td>\n",
       "      <td>Rajesh k, Mumbai</td>\n",
       "      <td>Rajesh k</td>\n",
       "      <td>Mumbai</td>\n",
       "    </tr>\n",
       "    <tr>\n",
       "      <th>3</th>\n",
       "      <td>3</td>\n",
       "      <td>5My Complete Nourishment Package...!!!</td>\n",
       "      <td>My skin is very dry and this Nivea lotion is c...</td>\n",
       "      <td>Shilpa,</td>\n",
       "      <td>Shilpa</td>\n",
       "      <td></td>\n",
       "    </tr>\n",
       "    <tr>\n",
       "      <th>4</th>\n",
       "      <td>4</td>\n",
       "      <td>4</td>\n",
       "      <td>Nice product. but smell is a bit stronger than...</td>\n",
       "      <td>Rahul, Noida-Ghaziabad</td>\n",
       "      <td>Rahul</td>\n",
       "      <td>Noida-Ghaziabad</td>\n",
       "    </tr>\n",
       "  </tbody>\n",
       "</table>\n",
       "</div>"
      ],
      "text/plain": [
       "   Unnamed: 0                                             Rating  \\\n",
       "0           0  4Good Aroma! Have been using it from a long time.   \n",
       "1           1                              5Perfect for dry skin   \n",
       "2           2                                     5BB cost saver   \n",
       "3           3             5My Complete Nourishment Package...!!!   \n",
       "4           4                                                  4   \n",
       "\n",
       "                                             Comment           Author_Details  \\\n",
       "0  Good Product. But I don't think it moisturises...         Preethy Suresh,    \n",
       "1  It moisturizes the skin extremely well and mak...            Mariyam Ali,    \n",
       "2       We are using from long time , very effective        Rajesh k, Mumbai    \n",
       "3  My skin is very dry and this Nivea lotion is c...                 Shilpa,    \n",
       "4  Nice product. but smell is a bit stronger than...  Rahul, Noida-Ghaziabad    \n",
       "\n",
       "             Name           Location  \n",
       "0  Preethy Suresh                     \n",
       "1     Mariyam Ali                     \n",
       "2        Rajesh k            Mumbai   \n",
       "3          Shilpa                     \n",
       "4           Rahul   Noida-Ghaziabad   "
      ]
     },
     "execution_count": 12,
     "metadata": {},
     "output_type": "execute_result"
    }
   ],
   "source": [
    "df.head()"
   ]
  },
  {
   "cell_type": "code",
   "execution_count": 13,
   "id": "b22c074f",
   "metadata": {},
   "outputs": [
    {
     "data": {
      "text/plain": [
       "(44, 6)"
      ]
     },
     "execution_count": 13,
     "metadata": {},
     "output_type": "execute_result"
    }
   ],
   "source": [
    "df.shape"
   ]
  },
  {
   "cell_type": "code",
   "execution_count": 15,
   "id": "31d0ec67",
   "metadata": {},
   "outputs": [],
   "source": [
    "df['Name']=df['Name'].str.lower()"
   ]
  },
  {
   "cell_type": "code",
   "execution_count": 16,
   "id": "fe1745c8",
   "metadata": {},
   "outputs": [],
   "source": [
    "import gender_guesser.detector as gender\n",
    "gd = gender.Detector()\n",
    "df['Gender'] = df['Name'].apply(str.capitalize).map(lambda x: gd.get_gender(x))"
   ]
  },
  {
   "cell_type": "code",
   "execution_count": 17,
   "id": "043cc388",
   "metadata": {},
   "outputs": [
    {
     "data": {
      "text/html": [
       "<div>\n",
       "<style scoped>\n",
       "    .dataframe tbody tr th:only-of-type {\n",
       "        vertical-align: middle;\n",
       "    }\n",
       "\n",
       "    .dataframe tbody tr th {\n",
       "        vertical-align: top;\n",
       "    }\n",
       "\n",
       "    .dataframe thead th {\n",
       "        text-align: right;\n",
       "    }\n",
       "</style>\n",
       "<table border=\"1\" class=\"dataframe\">\n",
       "  <thead>\n",
       "    <tr style=\"text-align: right;\">\n",
       "      <th></th>\n",
       "      <th>Unnamed: 0</th>\n",
       "      <th>Rating</th>\n",
       "      <th>Comment</th>\n",
       "      <th>Author_Details</th>\n",
       "      <th>Name</th>\n",
       "      <th>Location</th>\n",
       "      <th>Gender</th>\n",
       "    </tr>\n",
       "  </thead>\n",
       "  <tbody>\n",
       "    <tr>\n",
       "      <th>0</th>\n",
       "      <td>0</td>\n",
       "      <td>4Good Aroma! Have been using it from a long time.</td>\n",
       "      <td>Good Product. But I don't think it moisturises...</td>\n",
       "      <td>Preethy Suresh,</td>\n",
       "      <td>preethy suresh</td>\n",
       "      <td></td>\n",
       "      <td>unknown</td>\n",
       "    </tr>\n",
       "    <tr>\n",
       "      <th>1</th>\n",
       "      <td>1</td>\n",
       "      <td>5Perfect for dry skin</td>\n",
       "      <td>It moisturizes the skin extremely well and mak...</td>\n",
       "      <td>Mariyam Ali,</td>\n",
       "      <td>mariyam ali</td>\n",
       "      <td></td>\n",
       "      <td>unknown</td>\n",
       "    </tr>\n",
       "    <tr>\n",
       "      <th>2</th>\n",
       "      <td>2</td>\n",
       "      <td>5BB cost saver</td>\n",
       "      <td>We are using from long time , very effective</td>\n",
       "      <td>Rajesh k, Mumbai</td>\n",
       "      <td>rajesh k</td>\n",
       "      <td>Mumbai</td>\n",
       "      <td>unknown</td>\n",
       "    </tr>\n",
       "    <tr>\n",
       "      <th>3</th>\n",
       "      <td>3</td>\n",
       "      <td>5My Complete Nourishment Package...!!!</td>\n",
       "      <td>My skin is very dry and this Nivea lotion is c...</td>\n",
       "      <td>Shilpa,</td>\n",
       "      <td>shilpa</td>\n",
       "      <td></td>\n",
       "      <td>female</td>\n",
       "    </tr>\n",
       "    <tr>\n",
       "      <th>4</th>\n",
       "      <td>4</td>\n",
       "      <td>4</td>\n",
       "      <td>Nice product. but smell is a bit stronger than...</td>\n",
       "      <td>Rahul, Noida-Ghaziabad</td>\n",
       "      <td>rahul</td>\n",
       "      <td>Noida-Ghaziabad</td>\n",
       "      <td>male</td>\n",
       "    </tr>\n",
       "  </tbody>\n",
       "</table>\n",
       "</div>"
      ],
      "text/plain": [
       "   Unnamed: 0                                             Rating  \\\n",
       "0           0  4Good Aroma! Have been using it from a long time.   \n",
       "1           1                              5Perfect for dry skin   \n",
       "2           2                                     5BB cost saver   \n",
       "3           3             5My Complete Nourishment Package...!!!   \n",
       "4           4                                                  4   \n",
       "\n",
       "                                             Comment           Author_Details  \\\n",
       "0  Good Product. But I don't think it moisturises...         Preethy Suresh,    \n",
       "1  It moisturizes the skin extremely well and mak...            Mariyam Ali,    \n",
       "2       We are using from long time , very effective        Rajesh k, Mumbai    \n",
       "3  My skin is very dry and this Nivea lotion is c...                 Shilpa,    \n",
       "4  Nice product. but smell is a bit stronger than...  Rahul, Noida-Ghaziabad    \n",
       "\n",
       "             Name           Location   Gender  \n",
       "0  preethy suresh                     unknown  \n",
       "1     mariyam ali                     unknown  \n",
       "2        rajesh k            Mumbai   unknown  \n",
       "3          shilpa                      female  \n",
       "4           rahul   Noida-Ghaziabad      male  "
      ]
     },
     "execution_count": 17,
     "metadata": {},
     "output_type": "execute_result"
    }
   ],
   "source": [
    "df.head()"
   ]
  },
  {
   "cell_type": "code",
   "execution_count": 9,
   "id": "2b47ab14",
   "metadata": {},
   "outputs": [],
   "source": [
    "df.to_csv(r\"C:\\Users\\chaidc\\Documents\\CI_Box_Work\\selenium_scraping\\output\\gender.csv\")"
   ]
  },
  {
   "cell_type": "code",
   "execution_count": null,
   "id": "6447c386",
   "metadata": {},
   "outputs": [],
   "source": []
  }
 ],
 "metadata": {
  "kernelspec": {
   "display_name": "Python 3",
   "language": "python",
   "name": "python3"
  },
  "language_info": {
   "codemirror_mode": {
    "name": "ipython",
    "version": 3
   },
   "file_extension": ".py",
   "mimetype": "text/x-python",
   "name": "python",
   "nbconvert_exporter": "python",
   "pygments_lexer": "ipython3",
   "version": "3.8.8"
  }
 },
 "nbformat": 4,
 "nbformat_minor": 5
}
