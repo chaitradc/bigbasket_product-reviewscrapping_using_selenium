{
 "cells": [
  {
   "cell_type": "code",
   "execution_count": 57,
   "id": "4d955d7d",
   "metadata": {},
   "outputs": [
    {
     "name": "stderr",
     "output_type": "stream",
     "text": [
      "<ipython-input-57-7bb2641e1031>:19: DeprecationWarning: executable_path has been deprecated, please pass in a Service object\n",
      "  driver = webdriver.Chrome(ChromeDriverManager().install())\n"
     ]
    },
    {
     "name": "stdout",
     "output_type": "stream",
     "text": [
      "['5', '4', '5', '5', '4']\n",
      "[\"i'm using lakme since 1999, this product is absolutely genuine believe me it boost you your confidence level. thank you so much Lakshmi. I mean Lakme\", 'product I bought for the first time. yet to use this Beauty product', 'Good like foundation', 'Nice product like it', 'satisfactory']\n",
      "['anees begum, Visakhapatnam (12 months ago)\\n3', 'Thenmoli Mohandass, Coimbatore (a year ago)\\n2', 'S Sara, Hyderabad (12 months ago)\\n1', 'Rupali, Chandigarh Tricity (a year ago)\\n1', 'SRINIVASA MURTHY, Hyderabad (a year ago)\\n0']\n"
     ]
    }
   ],
   "source": [
    "# importing necessary packages\n",
    "from selenium import webdriver\n",
    "from webdriver_manager.chrome import ChromeDriverManager\n",
    "import pandas as pd\n",
    "  \n",
    "# for holding the resultant list\n",
    "element_list = []\n",
    "element_list1 = []\n",
    "element_list2 = []\n",
    "\n",
    "for page in range(1,2,1):\n",
    "    \n",
    "    #reading the url of the product\n",
    "    \n",
    "    #page_url = \"https://www.bigbasket.com/pd/40125359/vaseline-intensive-care-aloe-fresh-body-lotion-400-ml/?nc=sis-prod-list&t_pg=siscategory&t_p=sis-template-1&t_s=sis-prod-list&t_pos=2&t_ch=desktop/?page=\" + str(page)\n",
    "    #page_url =\"https://www.bigbasket.com/product-reviews/40029010/nivea-cocoa-nourish-body-lotion-for-very-dry-skin-with-coconut-oil-cocoa-butter-for-men-women-400-ml/?page=\"+str(page)\n",
    "    page_url =\"https://www.bigbasket.com/pd/30007133/lakme-face-cream-complexion-care-30-g-beige/?nc=sis-prod-list&t_pg=siscategory&t_p=sis-template-1&t_s=sis-prod-list&t_pos=2&t_ch=desktop/?page=\"+str(page)\n",
    "    driver = webdriver.Chrome(ChromeDriverManager().install())\n",
    "    driver.get(page_url)\n",
    "    \n",
    "    # fetching the product xpath\n",
    "    ratings=driver.find_elements(\"xpath\",\"//div[@class='_2us4g']\")\n",
    "    comment=driver.find_elements(\"xpath\",\"//div[@class='_1R8fN']\")\n",
    "    name=driver.find_elements(\"xpath\",\"//div[@class='_1D1CC']\")\n",
    "\n",
    "    # append the list to the empty list\n",
    "    for i in range(len(ratings)):\n",
    "         \n",
    "        element_list.append(ratings[i].text)\n",
    "    \n",
    "        element_list1.append(comment[i].text)\n",
    "    \n",
    "        element_list2.append(name[i].text)\n",
    "    print(element_list)\n",
    "    print(element_list1)\n",
    "    print(element_list2)\n",
    "    \n",
    "    \n",
    "#closing the driver\n",
    "driver.close()\n",
    "\n"
   ]
  },
  {
   "cell_type": "code",
   "execution_count": 58,
   "id": "b1cd8b14",
   "metadata": {},
   "outputs": [],
   "source": [
    "data1 = pd.DataFrame({'Rating':element_list,'Comment':element_list1,'Author_Details':element_list2})\n"
   ]
  },
  {
   "cell_type": "code",
   "execution_count": 59,
   "id": "2712be98",
   "metadata": {},
   "outputs": [
    {
     "data": {
      "text/html": [
       "<div>\n",
       "<style scoped>\n",
       "    .dataframe tbody tr th:only-of-type {\n",
       "        vertical-align: middle;\n",
       "    }\n",
       "\n",
       "    .dataframe tbody tr th {\n",
       "        vertical-align: top;\n",
       "    }\n",
       "\n",
       "    .dataframe thead th {\n",
       "        text-align: right;\n",
       "    }\n",
       "</style>\n",
       "<table border=\"1\" class=\"dataframe\">\n",
       "  <thead>\n",
       "    <tr style=\"text-align: right;\">\n",
       "      <th></th>\n",
       "      <th>Rating</th>\n",
       "      <th>Comment</th>\n",
       "      <th>Author_Details</th>\n",
       "    </tr>\n",
       "  </thead>\n",
       "  <tbody>\n",
       "    <tr>\n",
       "      <th>0</th>\n",
       "      <td>5</td>\n",
       "      <td>i'm using lakme since 1999, this product is ab...</td>\n",
       "      <td>anees begum, Visakhapatnam (12 months ago)\\n3</td>\n",
       "    </tr>\n",
       "    <tr>\n",
       "      <th>1</th>\n",
       "      <td>4</td>\n",
       "      <td>product I bought for the first time. yet to us...</td>\n",
       "      <td>Thenmoli Mohandass, Coimbatore (a year ago)\\n2</td>\n",
       "    </tr>\n",
       "    <tr>\n",
       "      <th>2</th>\n",
       "      <td>5</td>\n",
       "      <td>Good like foundation</td>\n",
       "      <td>S Sara, Hyderabad (12 months ago)\\n1</td>\n",
       "    </tr>\n",
       "    <tr>\n",
       "      <th>3</th>\n",
       "      <td>5</td>\n",
       "      <td>Nice product like it</td>\n",
       "      <td>Rupali, Chandigarh Tricity (a year ago)\\n1</td>\n",
       "    </tr>\n",
       "    <tr>\n",
       "      <th>4</th>\n",
       "      <td>4</td>\n",
       "      <td>satisfactory</td>\n",
       "      <td>SRINIVASA MURTHY, Hyderabad (a year ago)\\n0</td>\n",
       "    </tr>\n",
       "  </tbody>\n",
       "</table>\n",
       "</div>"
      ],
      "text/plain": [
       "  Rating                                            Comment  \\\n",
       "0      5  i'm using lakme since 1999, this product is ab...   \n",
       "1      4  product I bought for the first time. yet to us...   \n",
       "2      5                               Good like foundation   \n",
       "3      5                               Nice product like it   \n",
       "4      4                                       satisfactory   \n",
       "\n",
       "                                   Author_Details  \n",
       "0   anees begum, Visakhapatnam (12 months ago)\\n3  \n",
       "1  Thenmoli Mohandass, Coimbatore (a year ago)\\n2  \n",
       "2            S Sara, Hyderabad (12 months ago)\\n1  \n",
       "3      Rupali, Chandigarh Tricity (a year ago)\\n1  \n",
       "4     SRINIVASA MURTHY, Hyderabad (a year ago)\\n0  "
      ]
     },
     "execution_count": 59,
     "metadata": {},
     "output_type": "execute_result"
    }
   ],
   "source": [
    "data1.head()"
   ]
  },
  {
   "cell_type": "code",
   "execution_count": 61,
   "id": "87c60716",
   "metadata": {},
   "outputs": [
    {
     "name": "stderr",
     "output_type": "stream",
     "text": [
      "<ipython-input-61-632e17493105>:2: FutureWarning: The default value of regex will change from True to False in a future version.\n",
      "  data1['Author_Details'] = data1.Author_Details.str.replace('\\d+', '')\n",
      "<ipython-input-61-632e17493105>:3: FutureWarning: The default value of regex will change from True to False in a future version.\n",
      "  data1['Author_Details']=data1['Author_Details'].str.replace(r\"\\(.*\\)\",\"\")\n"
     ]
    }
   ],
   "source": [
    "data1= data1.replace('\\\\n','', regex=True)\n",
    "data1['Author_Details'] = data1.Author_Details.str.replace('\\d+', '')\n",
    "data1['Author_Details']=data1['Author_Details'].str.replace(r\"\\(.*\\)\",\"\")"
   ]
  },
  {
   "cell_type": "code",
   "execution_count": 62,
   "id": "a1d007c6",
   "metadata": {},
   "outputs": [
    {
     "data": {
      "text/html": [
       "<div>\n",
       "<style scoped>\n",
       "    .dataframe tbody tr th:only-of-type {\n",
       "        vertical-align: middle;\n",
       "    }\n",
       "\n",
       "    .dataframe tbody tr th {\n",
       "        vertical-align: top;\n",
       "    }\n",
       "\n",
       "    .dataframe thead th {\n",
       "        text-align: right;\n",
       "    }\n",
       "</style>\n",
       "<table border=\"1\" class=\"dataframe\">\n",
       "  <thead>\n",
       "    <tr style=\"text-align: right;\">\n",
       "      <th></th>\n",
       "      <th>Rating</th>\n",
       "      <th>Comment</th>\n",
       "      <th>Author_Details</th>\n",
       "    </tr>\n",
       "  </thead>\n",
       "  <tbody>\n",
       "    <tr>\n",
       "      <th>0</th>\n",
       "      <td>5</td>\n",
       "      <td>i'm using lakme since 1999, this product is ab...</td>\n",
       "      <td>anees begum, Visakhapatnam</td>\n",
       "    </tr>\n",
       "    <tr>\n",
       "      <th>1</th>\n",
       "      <td>4</td>\n",
       "      <td>product I bought for the first time. yet to us...</td>\n",
       "      <td>Thenmoli Mohandass, Coimbatore</td>\n",
       "    </tr>\n",
       "    <tr>\n",
       "      <th>2</th>\n",
       "      <td>5</td>\n",
       "      <td>Good like foundation</td>\n",
       "      <td>S Sara, Hyderabad</td>\n",
       "    </tr>\n",
       "    <tr>\n",
       "      <th>3</th>\n",
       "      <td>5</td>\n",
       "      <td>Nice product like it</td>\n",
       "      <td>Rupali, Chandigarh Tricity</td>\n",
       "    </tr>\n",
       "    <tr>\n",
       "      <th>4</th>\n",
       "      <td>4</td>\n",
       "      <td>satisfactory</td>\n",
       "      <td>SRINIVASA MURTHY, Hyderabad</td>\n",
       "    </tr>\n",
       "  </tbody>\n",
       "</table>\n",
       "</div>"
      ],
      "text/plain": [
       "  Rating                                            Comment  \\\n",
       "0      5  i'm using lakme since 1999, this product is ab...   \n",
       "1      4  product I bought for the first time. yet to us...   \n",
       "2      5                               Good like foundation   \n",
       "3      5                               Nice product like it   \n",
       "4      4                                       satisfactory   \n",
       "\n",
       "                    Author_Details  \n",
       "0      anees begum, Visakhapatnam   \n",
       "1  Thenmoli Mohandass, Coimbatore   \n",
       "2               S Sara, Hyderabad   \n",
       "3      Rupali, Chandigarh Tricity   \n",
       "4     SRINIVASA MURTHY, Hyderabad   "
      ]
     },
     "execution_count": 62,
     "metadata": {},
     "output_type": "execute_result"
    }
   ],
   "source": [
    "data1.head()"
   ]
  },
  {
   "cell_type": "code",
   "execution_count": 63,
   "id": "26543a0f",
   "metadata": {},
   "outputs": [
    {
     "data": {
      "text/plain": [
       "(5, 3)"
      ]
     },
     "execution_count": 63,
     "metadata": {},
     "output_type": "execute_result"
    }
   ],
   "source": [
    "data1.shape"
   ]
  },
  {
   "cell_type": "code",
   "execution_count": 27,
   "id": "3e01a0ca",
   "metadata": {},
   "outputs": [],
   "source": [
    "#df=pd.read_csv(r\"C:\\Users\\chaidc\\Documents\\CI_Box_Work\\output\\product_review_lakme_0902.csv\")"
   ]
  },
  {
   "cell_type": "code",
   "execution_count": 28,
   "id": "4ae44663",
   "metadata": {},
   "outputs": [],
   "source": [
    "#df.drop(\"Unnamed: 0\", axis=1, inplace=True)"
   ]
  },
  {
   "cell_type": "code",
   "execution_count": 65,
   "id": "81bdf550",
   "metadata": {},
   "outputs": [],
   "source": [
    "data1[['Name', 'Location']] = data1['Author_Details'].str.split(',', expand=True)"
   ]
  },
  {
   "cell_type": "code",
   "execution_count": 66,
   "id": "ca06f3bd",
   "metadata": {},
   "outputs": [
    {
     "data": {
      "text/html": [
       "<div>\n",
       "<style scoped>\n",
       "    .dataframe tbody tr th:only-of-type {\n",
       "        vertical-align: middle;\n",
       "    }\n",
       "\n",
       "    .dataframe tbody tr th {\n",
       "        vertical-align: top;\n",
       "    }\n",
       "\n",
       "    .dataframe thead th {\n",
       "        text-align: right;\n",
       "    }\n",
       "</style>\n",
       "<table border=\"1\" class=\"dataframe\">\n",
       "  <thead>\n",
       "    <tr style=\"text-align: right;\">\n",
       "      <th></th>\n",
       "      <th>Rating</th>\n",
       "      <th>Comment</th>\n",
       "      <th>Author_Details</th>\n",
       "      <th>Name</th>\n",
       "      <th>Location</th>\n",
       "    </tr>\n",
       "  </thead>\n",
       "  <tbody>\n",
       "    <tr>\n",
       "      <th>0</th>\n",
       "      <td>5</td>\n",
       "      <td>i'm using lakme since 1999, this product is ab...</td>\n",
       "      <td>anees begum, Visakhapatnam</td>\n",
       "      <td>anees begum</td>\n",
       "      <td>Visakhapatnam</td>\n",
       "    </tr>\n",
       "    <tr>\n",
       "      <th>1</th>\n",
       "      <td>4</td>\n",
       "      <td>product I bought for the first time. yet to us...</td>\n",
       "      <td>Thenmoli Mohandass, Coimbatore</td>\n",
       "      <td>Thenmoli Mohandass</td>\n",
       "      <td>Coimbatore</td>\n",
       "    </tr>\n",
       "    <tr>\n",
       "      <th>2</th>\n",
       "      <td>5</td>\n",
       "      <td>Good like foundation</td>\n",
       "      <td>S Sara, Hyderabad</td>\n",
       "      <td>S Sara</td>\n",
       "      <td>Hyderabad</td>\n",
       "    </tr>\n",
       "    <tr>\n",
       "      <th>3</th>\n",
       "      <td>5</td>\n",
       "      <td>Nice product like it</td>\n",
       "      <td>Rupali, Chandigarh Tricity</td>\n",
       "      <td>Rupali</td>\n",
       "      <td>Chandigarh Tricity</td>\n",
       "    </tr>\n",
       "    <tr>\n",
       "      <th>4</th>\n",
       "      <td>4</td>\n",
       "      <td>satisfactory</td>\n",
       "      <td>SRINIVASA MURTHY, Hyderabad</td>\n",
       "      <td>SRINIVASA MURTHY</td>\n",
       "      <td>Hyderabad</td>\n",
       "    </tr>\n",
       "  </tbody>\n",
       "</table>\n",
       "</div>"
      ],
      "text/plain": [
       "  Rating                                            Comment  \\\n",
       "0      5  i'm using lakme since 1999, this product is ab...   \n",
       "1      4  product I bought for the first time. yet to us...   \n",
       "2      5                               Good like foundation   \n",
       "3      5                               Nice product like it   \n",
       "4      4                                       satisfactory   \n",
       "\n",
       "                    Author_Details                Name              Location  \n",
       "0      anees begum, Visakhapatnam          anees begum        Visakhapatnam   \n",
       "1  Thenmoli Mohandass, Coimbatore   Thenmoli Mohandass           Coimbatore   \n",
       "2               S Sara, Hyderabad               S Sara            Hyderabad   \n",
       "3      Rupali, Chandigarh Tricity               Rupali   Chandigarh Tricity   \n",
       "4     SRINIVASA MURTHY, Hyderabad     SRINIVASA MURTHY            Hyderabad   "
      ]
     },
     "execution_count": 66,
     "metadata": {},
     "output_type": "execute_result"
    }
   ],
   "source": [
    "data1.head()"
   ]
  },
  {
   "cell_type": "code",
   "execution_count": 67,
   "id": "1f769d42",
   "metadata": {},
   "outputs": [],
   "source": [
    "data1.to_csv(r\"C:\\Users\\chaidc\\Documents\\CI_Box_Work\\selenium_scraping\\output\\product_review_lakme_final_0902.csv\")"
   ]
  },
  {
   "cell_type": "code",
   "execution_count": null,
   "id": "a355d0b8",
   "metadata": {},
   "outputs": [],
   "source": []
  }
 ],
 "metadata": {
  "kernelspec": {
   "display_name": "Python 3",
   "language": "python",
   "name": "python3"
  },
  "language_info": {
   "codemirror_mode": {
    "name": "ipython",
    "version": 3
   },
   "file_extension": ".py",
   "mimetype": "text/x-python",
   "name": "python",
   "nbconvert_exporter": "python",
   "pygments_lexer": "ipython3",
   "version": "3.8.8"
  }
 },
 "nbformat": 4,
 "nbformat_minor": 5
}
